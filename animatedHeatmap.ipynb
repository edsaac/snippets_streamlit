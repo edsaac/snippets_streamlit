{
 "cells": [
  {
   "cell_type": "code",
   "execution_count": 6,
   "metadata": {},
   "outputs": [
    {
     "data": {
      "image/png": "[encoded data removed]",
      "text/plain": [
       "<Figure size 288x288 with 1 Axes>"
      ]
     },
     "metadata": {
      "needs_background": "light"
     },
     "output_type": "display_data"
    }
   ],
   "source": [
    "import matplotlib.pyplot as plt\n",
    "from matplotlib.animation import FuncAnimation\n",
    "import numpy as np\n",
    "from itertools import cycle\n",
    "\n",
    "## Generate some data\n",
    "randomdata = np.random.random(size=(5,3,3))\n",
    "harvest_cycle = cycle([i for i in randomdata])\n",
    "harvest = next(harvest_cycle)\n",
    "\n",
    "## Initialize figure\n",
    "fig,ax = plt.subplots(figsize=[4,4])\n",
    "ax.set_aspect('equal')\n",
    "ax.grid(which = 'minor',color='w', linestyle='-', linewidth=2)\n",
    "heatmap = ax.imshow(harvest)\n",
    "\n",
    "## Animate \n",
    "def update(frame_number):\n",
    "    ## Clears the data passed to the axes\n",
    "    ##  This is important so the final figure does not store\n",
    "    ##  every single frame and slows everything down \n",
    "    ax.cla()\n",
    "\n",
    "    ax.imshow(next(harvest_cycle))\n",
    "    ax.set_title(f\"Frame: {frame_number}\",fontsize=24)\n",
    "\n",
    "animation = FuncAnimation(fig,update,frames=3)\n",
    "\n",
    "## Saved mp4 video\n",
    "# animation.save(\"movie.mp4\")\n",
    "\n",
    "## Keep jshmtl representation\n",
    "animjs = animation.to_jshtml()\n",
    "\n",
    "with open(\"animated.html\",\"w\") as f:\n",
    "    f.write(animjs)"
   ]
  },
  {
   "cell_type": "code",
   "execution_count": 8,
   "metadata": {},
   "outputs": [],
   "source": [
    "import re\n",
    "inject = \"\"\"document.querySelector('.anim-buttons button[title=\"Play\"]').click();\"\"\"\n",
    "\n",
    "p = re.compile(r\"(setTimeout.*?;)(.*?})\", re.MULTILINE | re.DOTALL)\n",
    "\n",
    "newanimjs = p.sub(rf\"\\1 \\n {inject} \\2\", animjs)\n",
    "\n",
    "with open(\"animated.html\",\"w\") as f:\n",
    "    f.write(newanimjs)\n"
   ]
  }
 ],
 "metadata": {
  "kernelspec": {
   "display_name": "Python 3.9.5 ('venv')",
   "language": "python",
   "name": "python3"
  },
  "language_info": {
   "codemirror_mode": {
    "name": "ipython",
    "version": 3
   },
   "file_extension": ".py",
   "mimetype": "text/x-python",
   "name": "python",
   "nbconvert_exporter": "python",
   "pygments_lexer": "ipython3",
   "version": "3.9.5"
  },
  "orig_nbformat": 4,
  "vscode": {
   "interpreter": {
    "hash": "8f62a988d0078ce54b44b9110a71f93c38ba1feabf8ee2b2fa419091e683527d"
   }
  }
 },
 "nbformat": 4,
 "nbformat_minor": 2
}
